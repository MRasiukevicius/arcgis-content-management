{
 "cells": [
  {
   "cell_type": "markdown",
   "id": "8ff94cb2",
   "metadata": {},
   "source": [
    "## Cloning hosted Layer"
   ]
  },
  {
   "cell_type": "code",
   "execution_count": 1,
   "id": "aaafc7cd",
   "metadata": {},
   "outputs": [],
   "source": [
    "from arcgis.gis import GIS"
   ]
  },
  {
   "cell_type": "code",
   "execution_count": 2,
   "id": "efe0061b",
   "metadata": {},
   "outputs": [],
   "source": [
    "source = GIS(profile='esoapp_unetwork')\n",
    "target = GIS(profile='esoapp2_unetwork')"
   ]
  },
  {
   "cell_type": "markdown",
   "id": "16281c77",
   "metadata": {},
   "source": [
    "### Get source Portal layer"
   ]
  },
  {
   "cell_type": "code",
   "execution_count": 3,
   "id": "e01157de",
   "metadata": {},
   "outputs": [
    {
     "data": {
      "text/plain": [
       "[<Item title:\"workOrder_data\" type:Feature Layer Collection owner:unetwork>]"
      ]
     },
     "execution_count": 3,
     "metadata": {},
     "output_type": "execute_result"
    }
   ],
   "source": [
    "source_items = source.content.search(query=f\"title:workOrder* AND owner:{source.users.me.username}\", \n",
    "                                        item_type=\"Feature Layer\")\n",
    "source_items"
   ]
  },
  {
   "cell_type": "markdown",
   "id": "1e1a3787",
   "metadata": {},
   "source": [
    "### Layer info"
   ]
  },
  {
   "cell_type": "code",
   "execution_count": 4,
   "id": "66ffc34c",
   "metadata": {},
   "outputs": [
    {
     "name": "stdout",
     "output_type": "stream",
     "text": [
      "Hosted Feature Layer:              workOrder_data\n",
      "--------------------------------------------------------------------------------\n",
      "  item id:            0848610476fa4e95a9c5dd551bbd37a4\n",
      "  individual layer urls:\n",
      "    https://esoapp.gis.lt/hserver/rest/services/Hosted/workOrder_data/FeatureServer/0\n"
     ]
    }
   ],
   "source": [
    "wo_layer = source_items[0]\n",
    "print(f\"{'Hosted Feature Layer:':35}{wo_layer.title}\\n{'-'*80}\")\n",
    "print(f\"{' '*2}{'item id:':20}{wo_layer.id}\")\n",
    "print(f\"{' '*2}individual layer urls:\")\n",
    "for flyr in wo_layer.layers:\n",
    "    print(f\"{' '*4}{flyr.url}\")"
   ]
  },
  {
   "cell_type": "markdown",
   "id": "a97c00a8",
   "metadata": {},
   "source": [
    "### Clone hosted layer"
   ]
  },
  {
   "cell_type": "code",
   "execution_count": 5,
   "id": "3daf525c",
   "metadata": {},
   "outputs": [
    {
     "data": {
      "text/plain": [
       "{'username': 'unetwork',\n",
       " 'id': '649b7ebd7ae142c5bc8d26c7aa9f3c88',\n",
       " 'title': 'DevEU24',\n",
       " 'created': 1727676075935}"
      ]
     },
     "execution_count": 5,
     "metadata": {},
     "output_type": "execute_result"
    }
   ],
   "source": [
    "folder_name = 'DevEU24'\n",
    "folder = next((f for f in target.users.me.folders if f['title'] == folder_name), None)\n",
    "if not folder:\n",
    "    folder = target.content.create_folder(folder=folder_name)\n",
    "folder"
   ]
  },
  {
   "cell_type": "markdown",
   "id": "c8609f82",
   "metadata": {},
   "source": [
    "- parameter **copy_data=False** would clone empty HostedFeature service\n",
    "- parameter **preserve_item_id=False** will create cloned Item with same target's ItemId"
   ]
  },
  {
   "cell_type": "code",
   "execution_count": 6,
   "id": "5ce4d5d0",
   "metadata": {},
   "outputs": [],
   "source": [
    "try:\n",
    "    cloned_lyr_item = target.content.clone_items(items=[wo_layer],\n",
    "                                                 folder=folder['title'], \n",
    "                                                 copy_data=True, \n",
    "                                                 preserve_item_id=False)[0]\n",
    "except Exception as e:\n",
    "    print(\"Failed to clone.\")\n",
    "    print(str(e))"
   ]
  },
  {
   "cell_type": "markdown",
   "id": "5e79ff20",
   "metadata": {},
   "source": [
    "### Print information about the cloned Feature Layer"
   ]
  },
  {
   "cell_type": "code",
   "execution_count": 7,
   "id": "c31b26e2",
   "metadata": {},
   "outputs": [
    {
     "name": "stdout",
     "output_type": "stream",
     "text": [
      "Hosted Feature Layer:              workOrder_data\n",
      "--------------------------------------------------------------------------------\n",
      "  item id:            ec4b80b68b854444a40d4e35b20df41b\n",
      "  individual layer urls:\n",
      "    https://esoapp2.gis.lt/hserver/rest/services/Hosted/workOrder_data/FeatureServer/0\n"
     ]
    }
   ],
   "source": [
    "print(f\"{'Hosted Feature Layer:':35}{cloned_lyr_item.title}\\n{'-'*80}\")\n",
    "print(f\"{' '*2}{'item id:':20}{cloned_lyr_item.id}\")\n",
    "print(f\"{' '*2}individual layer urls:\")\n",
    "for lyr in cloned_lyr_item.layers:\n",
    "    print(f\"{' '*4}{lyr.url}\")"
   ]
  },
  {
   "cell_type": "markdown",
   "id": "9486bda0",
   "metadata": {},
   "source": [
    "### Visualize the cloned Feature Layer"
   ]
  },
  {
   "cell_type": "code",
   "execution_count": 10,
   "id": "38e88010",
   "metadata": {
    "scrolled": true
   },
   "outputs": [
    {
     "data": {
      "application/vnd.jupyter.widget-view+json": {
       "model_id": "553c6a02139c4b3ab4fda0abfcd3916f",
       "version_major": 2,
       "version_minor": 0
      },
      "text/plain": [
       "MapView(layout=Layout(height='400px', width='100%'))"
      ]
     },
     "metadata": {},
     "output_type": "display_data"
    },
    {
     "data": {
      "text/html": [
       "<div class=\"map-static-img-preview-3d10d515-d040-43a5-b70f-edb2ec0ad1bd\"><img src=\"\"></img></div>"
      ],
      "text/plain": [
       "<IPython.core.display.HTML object>"
      ]
     },
     "metadata": {},
     "output_type": "display_data"
    },
    {
     "data": {
      "text/html": [
       "<div class=\"map-html-embed-preview-3d10d515-d040-43a5-b70f-edb2ec0ad1bd\"></div>"
      ],
      "text/plain": [
       "<IPython.core.display.HTML object>"
      ]
     },
     "metadata": {},
     "output_type": "display_data"
    }
   ],
   "source": [
    "target_map = target.map('Cloned Work orders')\n",
    "target_map.add_layer(cloned_lyr_item)\n",
    "target_map.zoom = 8\n",
    "target_map.center = [54.9, 23.9]\n",
    "target_map"
   ]
  },
  {
   "cell_type": "code",
   "execution_count": 11,
   "id": "599c3c0a",
   "metadata": {},
   "outputs": [
    {
     "data": {
      "text/html": [
       "<div class=\"item_container\" style=\"height: auto; overflow: hidden; border: 1px solid #cfcfcf; border-radius: 2px; background: #f6fafa; line-height: 1.21429em; padding: 10px;\">\n",
       "                    <div class=\"item_left\" style=\"width: 210px; float: left;\">\n",
       "                       <a href='https://esoapp2.gis.lt/portal/home/item.html?id=ec4b80b68b854444a40d4e35b20df41b' target='_blank'>\n",
       "                        <img src='data:image/png;base64,R0lGODlhBQAFAID/AMDAwAAAACH5BAEAAAAALAAAAAAFAAUAQAIEhI+pWAA7' width='200' height='133' class=\"itemThumbnail\">\n",
       "                       </a>\n",
       "                    </div>\n",
       "\n",
       "                    <div class=\"item_right\"     style=\"float: none; width: auto; overflow: hidden;\">\n",
       "                        <a href='https://esoapp2.gis.lt/portal/home/item.html?id=ec4b80b68b854444a40d4e35b20df41b' target='_blank'><b>workOrder_data</b>\n",
       "                        </a>\n",
       "                        <br/><img src='https://esoapp2.gis.lt/portal/home/js/jsapi/esri/css/images/item_type_icons/featureshosted16.png' style=\"vertical-align:middle;\" width=16 height=16>Feature Layer Collection by unetwork\n",
       "                        <br/>Last Modified: lapkritis 04, 2024\n",
       "                        <br/>0 comments, 1 views\n",
       "                    </div>\n",
       "                </div>\n",
       "                "
      ],
      "text/plain": [
       "<Item title:\"workOrder_data\" type:Feature Layer Collection owner:unetwork>"
      ]
     },
     "execution_count": 11,
     "metadata": {},
     "output_type": "execute_result"
    }
   ],
   "source": [
    "cloned_lyr_item"
   ]
  },
  {
   "cell_type": "code",
   "execution_count": null,
   "id": "b7047b12",
   "metadata": {},
   "outputs": [],
   "source": []
  }
 ],
 "metadata": {
  "kernelspec": {
   "display_name": "Python 3 (ipykernel)",
   "language": "python",
   "name": "python3"
  },
  "language_info": {
   "codemirror_mode": {
    "name": "ipython",
    "version": 3
   },
   "file_extension": ".py",
   "mimetype": "text/x-python",
   "name": "python",
   "nbconvert_exporter": "python",
   "pygments_lexer": "ipython3",
   "version": "3.11.10"
  }
 },
 "nbformat": 4,
 "nbformat_minor": 5
}
