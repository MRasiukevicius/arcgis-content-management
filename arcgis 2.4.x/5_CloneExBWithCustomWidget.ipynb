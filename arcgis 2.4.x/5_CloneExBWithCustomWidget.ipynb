{
 "cells": [
  {
   "cell_type": "markdown",
   "id": "71efe844-724f-4fbb-91bd-30667a3372a0",
   "metadata": {},
   "source": [
    "## Cloning Experience with custom Widget"
   ]
  },
  {
   "attachments": {},
   "cell_type": "markdown",
   "id": "2252d55f-7a5a-435b-b824-8f8848892c23",
   "metadata": {},
   "source": [
    "At the moment ```clone_items()``` will clone ExB application to target Portal, but custom items of Experience still references initial store.\n",
    "\n",
    "This sample demonstrates cloning complex Portal Item via Item backup and modify properties manually."
   ]
  },
  {
   "cell_type": "code",
   "execution_count": null,
   "id": "b2ccf1ef-c731-40dc-8e87-464b92b042aa",
   "metadata": {},
   "outputs": [],
   "source": [
    "import json\n",
    "with open('./profiles.json') as f:\n",
    "    profiles = json.load(f)"
   ]
  },
  {
   "cell_type": "code",
   "execution_count": null,
   "id": "8ce8e3e8",
   "metadata": {},
   "outputs": [],
   "source": [
    "from arcgis.gis import GIS, Item"
   ]
  },
  {
   "cell_type": "code",
   "execution_count": null,
   "id": "3e360f5c",
   "metadata": {},
   "outputs": [],
   "source": [
    "source = GIS(**profiles['geodispv9_padmin'])\n",
    "target = GIS(**profiles['esoapp2_unetwork'])"
   ]
  },
  {
   "cell_type": "markdown",
   "id": "f18326cd",
   "metadata": {},
   "source": [
    "### Get Experience Builder application with custom Widget"
   ]
  },
  {
   "cell_type": "code",
   "execution_count": null,
   "id": "2c9b981f",
   "metadata": {},
   "outputs": [],
   "source": [
    "exb_item_id = '93e980eee73a4450ad9928653c7921ff'\n",
    "exb_item = Item(source, exb_item_id)\n",
    "exb_item"
   ]
  },
  {
   "cell_type": "markdown",
   "id": "f1833424-9789-4bb8-ae8b-9619473f1523",
   "metadata": {},
   "source": [
    "### Source portal ExB application"
   ]
  },
  {
   "cell_type": "code",
   "execution_count": null,
   "id": "28d2d326",
   "metadata": {},
   "outputs": [],
   "source": [
    "from arcgis.apps.expbuilder import WebExperience\n",
    "source_exb = WebExperience(exb_item, gis=source)\n",
    "source_exb.view()"
   ]
  },
  {
   "cell_type": "markdown",
   "id": "742cef37-c2c6-4886-bb36-09280ec5624a",
   "metadata": {},
   "source": [
    "### Save ExB item configuration to JSON file. Analyze structure."
   ]
  },
  {
   "cell_type": "code",
   "execution_count": null,
   "id": "1359314d",
   "metadata": {},
   "outputs": [],
   "source": [
    "exb_config_file = exb_item.download(save_path='MyCustomExB',file_name='source_config.json')\n",
    "exb_config_file"
   ]
  },
  {
   "cell_type": "markdown",
   "id": "065f925d-02a9-4d19-95f3-ec89ff538305",
   "metadata": {},
   "source": [
    "### Let's modify config file to remap source-target portal items"
   ]
  },
  {
   "cell_type": "markdown",
   "id": "808dce04-0138-4e7f-a5f8-f20e54ccec68",
   "metadata": {},
   "source": [
    "#### We can access *datasources*, but there is no way to get *widgets* info. So we will modify JSON directly."
   ]
  },
  {
   "cell_type": "code",
   "execution_count": null,
   "id": "292548cd-0cc9-4477-abc6-c30606fdeef2",
   "metadata": {},
   "outputs": [],
   "source": [
    "source_exb.datasources"
   ]
  },
  {
   "cell_type": "markdown",
   "id": "85e7033c-c37e-4912-9686-abf690ce2446",
   "metadata": {},
   "source": [
    "#### Load ExB config"
   ]
  },
  {
   "cell_type": "code",
   "execution_count": null,
   "id": "15b7e910-a4a0-4b4b-b464-778b26afba1a",
   "metadata": {},
   "outputs": [],
   "source": [
    "with open('./MyCustomExB/source_config.json') as f:\n",
    "    exb_config = json.load(f)"
   ]
  },
  {
   "cell_type": "markdown",
   "id": "45acbee5-4052-4fe5-aff2-5656f70e92e1",
   "metadata": {},
   "source": [
    "#### Get target Widget and WebMap ItemIds:"
   ]
  },
  {
   "cell_type": "code",
   "execution_count": null,
   "id": "4e263287-8dd0-48a2-9acc-9399d068fa94",
   "metadata": {},
   "outputs": [],
   "source": [
    "item = target.content.search(query=f\"title:ExB Custom Editor widget AND owner:{target.users.me.username}\", item_type='Experience Builder Widget')[0]\n",
    "taget_widget_id = item.id\n",
    "item = target.content.search(query=f\"title:WorkOrders AND owner:{target.users.me.username}\", item_type='Web Map')[0]\n",
    "taget_web_map_id = item.id\n",
    "print(f'Target Custom Widget ID: {taget_widget_id}')\n",
    "print(f'Target WebMap ID: {taget_web_map_id}')"
   ]
  },
  {
   "cell_type": "markdown",
   "id": "72828d88-44f4-422c-b124-f531590a338b",
   "metadata": {},
   "source": [
    "#### Get source Widget and WebMap ItemIds:"
   ]
  },
  {
   "cell_type": "code",
   "execution_count": null,
   "id": "07f651f1-a981-4280-8b6d-a3efeeae9aa9",
   "metadata": {},
   "outputs": [],
   "source": [
    "source_widget_id = next(widget['itemId'] for key, widget in exb_config['widgets'].items() if widget['label'] == 'Editor')\n",
    "source_web_map_id = next(ds['itemId'] for key, ds in exb_config['dataSources'].items() if ds['sourceLabel'] == 'WorkOrders')\n",
    "print(f'Source Custom Widget ID: {source_widget_id}')\n",
    "print(f'Source WebMap ID: {source_web_map_id}')"
   ]
  },
  {
   "cell_type": "markdown",
   "id": "2ba89e25-286e-4f3d-883e-c241aa55d3ca",
   "metadata": {},
   "source": [
    "#### Replace item Ids and portal urls"
   ]
  },
  {
   "cell_type": "code",
   "execution_count": null,
   "id": "1a73a8fe-b673-47e2-812b-507135024011",
   "metadata": {},
   "outputs": [],
   "source": [
    "def remap_items(data, val_from, val_to):\n",
    "    if isinstance(data, list):\n",
    "        return [remap_items(x, val_from, val_to) for x in data]\n",
    "    if isinstance(data, dict):\n",
    "        return {k: remap_items(v, val_from, val_to) for k, v in data.items()}\n",
    "    return val_to if data == val_from else data # other cases"
   ]
  },
  {
   "cell_type": "code",
   "execution_count": null,
   "id": "70fbd82a-6002-42b4-bcd0-b2f46bfa57c5",
   "metadata": {},
   "outputs": [],
   "source": [
    "new_exb_config = remap_items(exb_config, source_widget_id, taget_widget_id)\n",
    "new_exb_config = remap_items(new_exb_config, source_web_map_id, taget_web_map_id)\n",
    "new_exb_config = remap_items(new_exb_config, source.url, target.url)"
   ]
  },
  {
   "cell_type": "code",
   "execution_count": null,
   "id": "d5faa8f0-3600-48a5-816e-da45bb4f6b42",
   "metadata": {},
   "outputs": [],
   "source": [
    "exb_config_modified_file = 'MyCustomExB/target_config.json'\n",
    "with open(exb_config_modified_file, 'w+') as f:\n",
    "    json.dump(new_exb_config, f)"
   ]
  },
  {
   "cell_type": "markdown",
   "id": "d5a098af-994d-444a-8d23-ec25cf6894e3",
   "metadata": {},
   "source": [
    "## Publish remapped Experience to target Portal"
   ]
  },
  {
   "cell_type": "code",
   "execution_count": null,
   "id": "ef824097",
   "metadata": {},
   "outputs": [],
   "source": [
    "folder_name = 'DevEU24'\n",
    "folder = next((f for f in target.users.me.folders if f['title'] == folder_name), None)\n",
    "if not folder:\n",
    "    folder = target.content.create_folder(folder=folder_name)\n",
    "folder"
   ]
  },
  {
   "cell_type": "code",
   "execution_count": null,
   "id": "2d130eff-8bda-4367-94fd-7239e6a9dfc5",
   "metadata": {},
   "outputs": [],
   "source": [
    "new_exp = WebExperience(path=exb_config_modified_file, gis=target, name='test_clone')\n",
    "new_exp.datasources"
   ]
  },
  {
   "cell_type": "code",
   "execution_count": null,
   "id": "d2de0382-09b1-47d5-9c2c-95cba07f7e1a",
   "metadata": {},
   "outputs": [],
   "source": [
    "target_item = new_exp.upload(\n",
    "    gis = target,\n",
    "    title = \"Custom Editor widget clone\", \n",
    "    publish = True, \n",
    "    auto_remap = True\n",
    ")\n",
    "target_item.move(folder=folder)\n",
    "target_item"
   ]
  }
 ],
 "metadata": {
  "kernelspec": {
   "display_name": "Python 3 (ipykernel)",
   "language": "python",
   "name": "python3"
  },
  "language_info": {
   "codemirror_mode": {
    "name": "ipython",
    "version": 3
   },
   "file_extension": ".py",
   "mimetype": "text/x-python",
   "name": "python",
   "nbconvert_exporter": "python",
   "pygments_lexer": "ipython3",
   "version": "3.11.9"
  }
 },
 "nbformat": 4,
 "nbformat_minor": 5
}
